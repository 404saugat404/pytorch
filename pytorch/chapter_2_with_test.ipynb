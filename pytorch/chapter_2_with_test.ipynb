{
  "nbformat": 4,
  "nbformat_minor": 0,
  "metadata": {
    "colab": {
      "provenance": [],
      "gpuType": "T4"
    },
    "kernelspec": {
      "name": "python3",
      "display_name": "Python 3"
    },
    "language_info": {
      "name": "python"
    },
    "accelerator": "GPU"
  },
  "cells": [
    {
      "cell_type": "markdown",
      "source": [
        "welcome to chapter 2 of pytorch\n"
      ],
      "metadata": {
        "id": "CrYwhiPP7VoW"
      }
    },
    {
      "cell_type": "code",
      "source": [],
      "metadata": {
        "id": "3Pz-JMtVcVS_"
      },
      "execution_count": 120,
      "outputs": []
    },
    {
      "cell_type": "code",
      "source": [
        "import torch\n",
        "from torch import nn\n",
        "import matplotlib.pyplot as plt\n"
      ],
      "metadata": {
        "id": "vXXweT5-7bcR"
      },
      "execution_count": 121,
      "outputs": []
    },
    {
      "cell_type": "code",
      "source": [
        "weight=0.7\n",
        "bias=0.3\n",
        "\n",
        "start=0\n",
        "end=1\n",
        "step=0.02\n",
        "x=torch.arange(start, end, step).unsqueeze(dim=1)\n",
        "y=x*weight+bias\n",
        "x,y"
      ],
      "metadata": {
        "colab": {
          "base_uri": "https://localhost:8080/"
        },
        "id": "RlA87pur8bg2",
        "outputId": "ee74c8fa-7b31-4c0e-9149-402a589b898f"
      },
      "execution_count": 122,
      "outputs": [
        {
          "output_type": "execute_result",
          "data": {
            "text/plain": [
              "(tensor([[0.0000],\n",
              "         [0.0200],\n",
              "         [0.0400],\n",
              "         [0.0600],\n",
              "         [0.0800],\n",
              "         [0.1000],\n",
              "         [0.1200],\n",
              "         [0.1400],\n",
              "         [0.1600],\n",
              "         [0.1800],\n",
              "         [0.2000],\n",
              "         [0.2200],\n",
              "         [0.2400],\n",
              "         [0.2600],\n",
              "         [0.2800],\n",
              "         [0.3000],\n",
              "         [0.3200],\n",
              "         [0.3400],\n",
              "         [0.3600],\n",
              "         [0.3800],\n",
              "         [0.4000],\n",
              "         [0.4200],\n",
              "         [0.4400],\n",
              "         [0.4600],\n",
              "         [0.4800],\n",
              "         [0.5000],\n",
              "         [0.5200],\n",
              "         [0.5400],\n",
              "         [0.5600],\n",
              "         [0.5800],\n",
              "         [0.6000],\n",
              "         [0.6200],\n",
              "         [0.6400],\n",
              "         [0.6600],\n",
              "         [0.6800],\n",
              "         [0.7000],\n",
              "         [0.7200],\n",
              "         [0.7400],\n",
              "         [0.7600],\n",
              "         [0.7800],\n",
              "         [0.8000],\n",
              "         [0.8200],\n",
              "         [0.8400],\n",
              "         [0.8600],\n",
              "         [0.8800],\n",
              "         [0.9000],\n",
              "         [0.9200],\n",
              "         [0.9400],\n",
              "         [0.9600],\n",
              "         [0.9800]]),\n",
              " tensor([[0.3000],\n",
              "         [0.3140],\n",
              "         [0.3280],\n",
              "         [0.3420],\n",
              "         [0.3560],\n",
              "         [0.3700],\n",
              "         [0.3840],\n",
              "         [0.3980],\n",
              "         [0.4120],\n",
              "         [0.4260],\n",
              "         [0.4400],\n",
              "         [0.4540],\n",
              "         [0.4680],\n",
              "         [0.4820],\n",
              "         [0.4960],\n",
              "         [0.5100],\n",
              "         [0.5240],\n",
              "         [0.5380],\n",
              "         [0.5520],\n",
              "         [0.5660],\n",
              "         [0.5800],\n",
              "         [0.5940],\n",
              "         [0.6080],\n",
              "         [0.6220],\n",
              "         [0.6360],\n",
              "         [0.6500],\n",
              "         [0.6640],\n",
              "         [0.6780],\n",
              "         [0.6920],\n",
              "         [0.7060],\n",
              "         [0.7200],\n",
              "         [0.7340],\n",
              "         [0.7480],\n",
              "         [0.7620],\n",
              "         [0.7760],\n",
              "         [0.7900],\n",
              "         [0.8040],\n",
              "         [0.8180],\n",
              "         [0.8320],\n",
              "         [0.8460],\n",
              "         [0.8600],\n",
              "         [0.8740],\n",
              "         [0.8880],\n",
              "         [0.9020],\n",
              "         [0.9160],\n",
              "         [0.9300],\n",
              "         [0.9440],\n",
              "         [0.9580],\n",
              "         [0.9720],\n",
              "         [0.9860]]))"
            ]
          },
          "metadata": {},
          "execution_count": 122
        }
      ]
    },
    {
      "cell_type": "code",
      "source": [
        "len(x),len(y)"
      ],
      "metadata": {
        "colab": {
          "base_uri": "https://localhost:8080/"
        },
        "id": "P9z3k_xR8nJ6",
        "outputId": "4d0481b7-f4ae-4bce-8bfb-8a99bd2b135e"
      },
      "execution_count": 123,
      "outputs": [
        {
          "output_type": "execute_result",
          "data": {
            "text/plain": [
              "(50, 50)"
            ]
          },
          "metadata": {},
          "execution_count": 123
        }
      ]
    },
    {
      "cell_type": "markdown",
      "source": [
        "splitting data into train and test dataset"
      ],
      "metadata": {
        "id": "siUyHJXb96zM"
      }
    },
    {
      "cell_type": "code",
      "source": [
        "split=int(0.8*len(x))\n",
        "x_train=x[0:split]\n",
        "y_train=y[0:split]\n",
        "\n",
        "x_test=x[split:]\n",
        "y_test=y[split:]\n"
      ],
      "metadata": {
        "id": "fZCiGO9w9pD0"
      },
      "execution_count": 124,
      "outputs": []
    },
    {
      "cell_type": "markdown",
      "source": [
        "using figure to understand the dataset using matplotlib"
      ],
      "metadata": {
        "id": "ONuSsgmG_3mL"
      }
    },
    {
      "cell_type": "code",
      "source": [
        "def plot_predictions(train_data=x_train,\n",
        "                     train_label=y_train,\n",
        "                     test_data=x_test,\n",
        "                     test_label=y_test,\n",
        "                     predictions=None):\n",
        "  plt.figure(figsize=(10,7))\n",
        "  plt.scatter(train_data,train_label,color=\"g\",s=10,label=\"train\") #s=size\n",
        "  plt.scatter(test_data,test_label,color=\"b\",label=\"test\")\n",
        "\n",
        "  if predictions is not None:\n",
        "     plt.scatter(test_data,predictions,color=\"r\",s=10,label=\"preditcions\") #s=size\n",
        "  plt.legend()\n",
        "\n",
        "\n"
      ],
      "metadata": {
        "id": "bsNOjKTb_bQ6"
      },
      "execution_count": 125,
      "outputs": []
    },
    {
      "cell_type": "code",
      "source": [
        "plot_predictions()"
      ],
      "metadata": {
        "colab": {
          "base_uri": "https://localhost:8080/",
          "height": 599
        },
        "id": "F4M8PClX_7xM",
        "outputId": "97d2bf36-5abb-4d8b-fd87-00bc92ca2b18"
      },
      "execution_count": 126,
      "outputs": [
        {
          "output_type": "display_data",
          "data": {
            "text/plain": [
              "<Figure size 1000x700 with 1 Axes>"
            ],
            "image/png": "[encoded data removed]"
          },
          "metadata": {}
        }
      ]
    },
    {
      "cell_type": "markdown",
      "source": [
        "building the first pytorch model"
      ],
      "metadata": {
        "id": "8OxQaaabPFFU"
      }
    },
    {
      "cell_type": "code",
      "source": [
        "from torch import nn\n",
        "#create a linear regression model class\n",
        "\n",
        "class LinearRegModel(nn.Module):\n",
        "  def __init__(self):\n",
        "    super().__init__()\n",
        "    self.weight=nn.Parameter(torch.randn(1,\n",
        "                                        requires_grad=True,\n",
        "                                        dtype=torch.float))\n",
        "\n",
        "    self.bias=nn.Parameter(torch.randn(1,\n",
        "                                        requires_grad=True,\n",
        "                                        dtype=torch.float))\n",
        "\n",
        "#forward menthod to define computation in    the model\n",
        "\n",
        "  def forward(self,x:torch.Tensor)->torch.Tensor:\n",
        "    return self.weight*x+self.bias\n"
      ],
      "metadata": {
        "id": "ui5Br10ZBdkN"
      },
      "execution_count": 127,
      "outputs": []
    },
    {
      "cell_type": "code",
      "source": [
        "#creating a random seed\n",
        "# torch.manual_seed(42)\n",
        "\n",
        "model_0=LinearRegModel()  #commented line 2 and 4 at 6.42.43,tyo vanda agadi chai commented theana\n",
        "\n",
        "list(model_0.parameters())\n"
      ],
      "metadata": {
        "colab": {
          "base_uri": "https://localhost:8080/"
        },
        "id": "7t9taEzXYULa",
        "outputId": "8ad341ca-45df-42c6-fe69-d06c5914f5de"
      },
      "execution_count": 128,
      "outputs": [
        {
          "output_type": "execute_result",
          "data": {
            "text/plain": [
              "[Parameter containing:\n",
              " tensor([0.3367], requires_grad=True),\n",
              " Parameter containing:\n",
              " tensor([0.1288], requires_grad=True)]"
            ]
          },
          "metadata": {},
          "execution_count": 128
        }
      ]
    },
    {
      "cell_type": "markdown",
      "source": [
        "dont forget to search difference between torch.rand and torch.randn"
      ],
      "metadata": {
        "id": "sv3aCz1Oa9ZX"
      }
    },
    {
      "cell_type": "code",
      "source": [
        "model_0.state_dict()"
      ],
      "metadata": {
        "colab": {
          "base_uri": "https://localhost:8080/"
        },
        "id": "VHpQGLKnm5TV",
        "outputId": "da30b942-25a1-46ec-fe17-9f9463a08504"
      },
      "execution_count": 129,
      "outputs": [
        {
          "output_type": "execute_result",
          "data": {
            "text/plain": [
              "OrderedDict([('weight', tensor([0.3367])), ('bias', tensor([0.1288]))])"
            ]
          },
          "metadata": {},
          "execution_count": 129
        }
      ]
    },
    {
      "cell_type": "code",
      "source": [
        "with torch.inference_mode():\n",
        "  y_preds=model_0(x_test)\n",
        "y_preds\n"
      ],
      "metadata": {
        "colab": {
          "base_uri": "https://localhost:8080/"
        },
        "id": "Fc2WXPSYnIBM",
        "outputId": "8043d9bf-d19d-4474-d9e3-5d803ed3e27c"
      },
      "execution_count": 130,
      "outputs": [
        {
          "output_type": "execute_result",
          "data": {
            "text/plain": [
              "tensor([[0.3982],\n",
              "        [0.4049],\n",
              "        [0.4116],\n",
              "        [0.4184],\n",
              "        [0.4251],\n",
              "        [0.4318],\n",
              "        [0.4386],\n",
              "        [0.4453],\n",
              "        [0.4520],\n",
              "        [0.4588]])"
            ]
          },
          "metadata": {},
          "execution_count": 130
        }
      ]
    },
    {
      "cell_type": "code",
      "source": [
        "y_test"
      ],
      "metadata": {
        "colab": {
          "base_uri": "https://localhost:8080/"
        },
        "id": "qeyfm2zboW86",
        "outputId": "945eb9b1-ac7b-440c-daa9-173b759a99b5"
      },
      "execution_count": 131,
      "outputs": [
        {
          "output_type": "execute_result",
          "data": {
            "text/plain": [
              "tensor([[0.8600],\n",
              "        [0.8740],\n",
              "        [0.8880],\n",
              "        [0.9020],\n",
              "        [0.9160],\n",
              "        [0.9300],\n",
              "        [0.9440],\n",
              "        [0.9580],\n",
              "        [0.9720],\n",
              "        [0.9860]])"
            ]
          },
          "metadata": {},
          "execution_count": 131
        }
      ]
    },
    {
      "cell_type": "code",
      "source": [
        "plot_predictions(predictions=y_preds)"
      ],
      "metadata": {
        "colab": {
          "base_uri": "https://localhost:8080/",
          "height": 599
        },
        "id": "6cfIKYd2ps-R",
        "outputId": "a09e5ab6-e1b0-4744-b9fd-770b028792b5"
      },
      "execution_count": 132,
      "outputs": [
        {
          "output_type": "display_data",
          "data": {
            "text/plain": [
              "<Figure size 1000x700 with 1 Axes>"
            ],
            "image/png": "[encoded data removed]"
          },
          "metadata": {}
        }
      ]
    },
    {
      "cell_type": "code",
      "source": [
        "#setting up loss func\n",
        "loss_fn=nn.L1Loss()\n",
        "\n",
        "\n",
        "#setting up optimizer\n",
        "optimizer=torch.optim.SGD(params=model_0.parameters(),lr=0.01)  #lr=learning rate=u need to set it ourself\n",
        "\n"
      ],
      "metadata": {
        "id": "NjXCGAykp3oi"
      },
      "execution_count": 133,
      "outputs": []
    },
    {
      "cell_type": "code",
      "source": [
        " list(model_0.parameters())"
      ],
      "metadata": {
        "colab": {
          "base_uri": "https://localhost:8080/"
        },
        "id": "nj7Y7FLMvyPn",
        "outputId": "9ae91dc2-aaea-4b52-a2bc-96e454809732"
      },
      "execution_count": 134,
      "outputs": [
        {
          "output_type": "execute_result",
          "data": {
            "text/plain": [
              "[Parameter containing:\n",
              " tensor([0.3367], requires_grad=True),\n",
              " Parameter containing:\n",
              " tensor([0.1288], requires_grad=True)]"
            ]
          },
          "metadata": {},
          "execution_count": 134
        }
      ]
    },
    {
      "cell_type": "code",
      "source": [
        "torch.manual_seed(42)\n",
        "\n",
        "\n",
        "#building a training and testing loop in pytorch\n",
        "epochs=100  #epoch is the one  loop through the data...\n",
        "\n",
        "\n",
        "\n",
        "#training the model\n",
        "\n",
        "for epoch in range(epochs):\n",
        "  #set the model to training mode\n",
        "  model_0.train()\n",
        "\n",
        "  #1 forward pass\n",
        "  y_preds=model_0(x_train)\n",
        "\n",
        "  #2 calculate the loss\n",
        "  loss=loss_fn(y_preds,y_train)\n",
        "  # print(f\"loss : {loss}\")\n",
        "\n",
        "  #3 optimizer zero grad\n",
        "  optimizer.zero_grad()\n",
        "\n",
        "  #4 perform backpropagartion on loss with respect to the paraeters of the model\n",
        "  loss.backward()\n",
        "\n",
        "  #5 step the optimizer(perform gradient decent)\n",
        "  optimizer.step()\n",
        "\n",
        "\n",
        "\n",
        "  model_0.eval() #turns off the gradient tracking      eval=evaluate=evaluate the model\n",
        "  with torch.inference_mode(): #turns off gradient tracking and a couple more things behind the scene\n",
        "    #1. do the forward pass\n",
        "    test_pred=model_0(x_test)\n",
        "\n",
        "    #2.calculate the loss\n",
        "    test_loss=loss_fn(test_pred,y_test)\n",
        "  if epoch%10==0:\n",
        "    print(f\"epoch: {epoch}   , loss: {loss}, test loss: {test_loss}\")\n",
        "\n",
        "  #print out the model state_dict()\n",
        "  print(model_0.state_dict())\n",
        "#6.60.1"
      ],
      "metadata": {
        "colab": {
          "base_uri": "https://localhost:8080/"
        },
        "id": "w50Yp-W_uMUV",
        "outputId": "4b7d30a5-8c6c-4d88-feb3-9c70533a89c1"
      },
      "execution_count": 141,
      "outputs": [
        {
          "output_type": "stream",
          "name": "stdout",
          "text": [
            "epoch: 0   , loss: 0.024458957836031914, test loss: 0.05646304413676262\n",
            "OrderedDict([('weight', tensor([0.5800])), ('bias', tensor([0.3503]))])\n",
            "OrderedDict([('weight', tensor([0.5818])), ('bias', tensor([0.3498]))])\n",
            "OrderedDict([('weight', tensor([0.5834])), ('bias', tensor([0.3488]))])\n",
            "OrderedDict([('weight', tensor([0.5852])), ('bias', tensor([0.3483]))])\n",
            "OrderedDict([('weight', tensor([0.5868])), ('bias', tensor([0.3473]))])\n",
            "OrderedDict([('weight', tensor([0.5886])), ('bias', tensor([0.3468]))])\n",
            "OrderedDict([('weight', tensor([0.5902])), ('bias', tensor([0.3458]))])\n",
            "OrderedDict([('weight', tensor([0.5920])), ('bias', tensor([0.3453]))])\n",
            "OrderedDict([('weight', tensor([0.5938])), ('bias', tensor([0.3448]))])\n",
            "OrderedDict([('weight', tensor([0.5954])), ('bias', tensor([0.3438]))])\n",
            "epoch: 10   , loss: 0.021020207554101944, test loss: 0.04819049686193466\n",
            "OrderedDict([('weight', tensor([0.5972])), ('bias', tensor([0.3433]))])\n",
            "OrderedDict([('weight', tensor([0.5988])), ('bias', tensor([0.3423]))])\n",
            "OrderedDict([('weight', tensor([0.6006])), ('bias', tensor([0.3418]))])\n",
            "OrderedDict([('weight', tensor([0.6022])), ('bias', tensor([0.3408]))])\n",
            "OrderedDict([('weight', tensor([0.6040])), ('bias', tensor([0.3403]))])\n",
            "OrderedDict([('weight', tensor([0.6058])), ('bias', tensor([0.3398]))])\n",
            "OrderedDict([('weight', tensor([0.6074])), ('bias', tensor([0.3388]))])\n",
            "OrderedDict([('weight', tensor([0.6092])), ('bias', tensor([0.3383]))])\n",
            "OrderedDict([('weight', tensor([0.6108])), ('bias', tensor([0.3373]))])\n",
            "OrderedDict([('weight', tensor([0.6126])), ('bias', tensor([0.3368]))])\n",
            "epoch: 20   , loss: 0.01758546568453312, test loss: 0.04060482233762741\n",
            "OrderedDict([('weight', tensor([0.6141])), ('bias', tensor([0.3358]))])\n",
            "OrderedDict([('weight', tensor([0.6159])), ('bias', tensor([0.3353]))])\n",
            "OrderedDict([('weight', tensor([0.6175])), ('bias', tensor([0.3343]))])\n",
            "OrderedDict([('weight', tensor([0.6193])), ('bias', tensor([0.3338]))])\n",
            "OrderedDict([('weight', tensor([0.6211])), ('bias', tensor([0.3333]))])\n",
            "OrderedDict([('weight', tensor([0.6227])), ('bias', tensor([0.3323]))])\n",
            "OrderedDict([('weight', tensor([0.6245])), ('bias', tensor([0.3318]))])\n",
            "OrderedDict([('weight', tensor([0.6261])), ('bias', tensor([0.3308]))])\n",
            "OrderedDict([('weight', tensor([0.6279])), ('bias', tensor([0.3303]))])\n",
            "OrderedDict([('weight', tensor([0.6295])), ('bias', tensor([0.3293]))])\n",
            "epoch: 30   , loss: 0.014155393466353416, test loss: 0.03233227878808975\n",
            "OrderedDict([('weight', tensor([0.6313])), ('bias', tensor([0.3288]))])\n",
            "OrderedDict([('weight', tensor([0.6331])), ('bias', tensor([0.3283]))])\n",
            "OrderedDict([('weight', tensor([0.6347])), ('bias', tensor([0.3273]))])\n",
            "OrderedDict([('weight', tensor([0.6365])), ('bias', tensor([0.3268]))])\n",
            "OrderedDict([('weight', tensor([0.6381])), ('bias', tensor([0.3258]))])\n",
            "OrderedDict([('weight', tensor([0.6399])), ('bias', tensor([0.3253]))])\n",
            "OrderedDict([('weight', tensor([0.6415])), ('bias', tensor([0.3243]))])\n",
            "OrderedDict([('weight', tensor([0.6433])), ('bias', tensor([0.3238]))])\n",
            "OrderedDict([('weight', tensor([0.6451])), ('bias', tensor([0.3233]))])\n",
            "OrderedDict([('weight', tensor([0.6467])), ('bias', tensor([0.3223]))])\n",
            "epoch: 40   , loss: 0.010716589167714119, test loss: 0.024059748277068138\n",
            "OrderedDict([('weight', tensor([0.6485])), ('bias', tensor([0.3218]))])\n",
            "OrderedDict([('weight', tensor([0.6501])), ('bias', tensor([0.3208]))])\n",
            "OrderedDict([('weight', tensor([0.6519])), ('bias', tensor([0.3203]))])\n",
            "OrderedDict([('weight', tensor([0.6534])), ('bias', tensor([0.3193]))])\n",
            "OrderedDict([('weight', tensor([0.6552])), ('bias', tensor([0.3188]))])\n",
            "OrderedDict([('weight', tensor([0.6568])), ('bias', tensor([0.3178]))])\n",
            "OrderedDict([('weight', tensor([0.6586])), ('bias', tensor([0.3173]))])\n",
            "OrderedDict([('weight', tensor([0.6604])), ('bias', tensor([0.3168]))])\n",
            "OrderedDict([('weight', tensor([0.6620])), ('bias', tensor([0.3158]))])\n",
            "OrderedDict([('weight', tensor([0.6638])), ('bias', tensor([0.3153]))])\n",
            "epoch: 50   , loss: 0.0072835334576666355, test loss: 0.016474086791276932\n",
            "OrderedDict([('weight', tensor([0.6654])), ('bias', tensor([0.3143]))])\n",
            "OrderedDict([('weight', tensor([0.6672])), ('bias', tensor([0.3138]))])\n",
            "OrderedDict([('weight', tensor([0.6688])), ('bias', tensor([0.3128]))])\n",
            "OrderedDict([('weight', tensor([0.6706])), ('bias', tensor([0.3123]))])\n",
            "OrderedDict([('weight', tensor([0.6724])), ('bias', tensor([0.3118]))])\n",
            "OrderedDict([('weight', tensor([0.6740])), ('bias', tensor([0.3108]))])\n",
            "OrderedDict([('weight', tensor([0.6758])), ('bias', tensor([0.3103]))])\n",
            "OrderedDict([('weight', tensor([0.6774])), ('bias', tensor([0.3093]))])\n",
            "OrderedDict([('weight', tensor([0.6792])), ('bias', tensor([0.3088]))])\n",
            "OrderedDict([('weight', tensor([0.6808])), ('bias', tensor([0.3078]))])\n",
            "epoch: 60   , loss: 0.0038517764769494534, test loss: 0.008201557211577892\n",
            "OrderedDict([('weight', tensor([0.6826])), ('bias', tensor([0.3073]))])\n",
            "OrderedDict([('weight', tensor([0.6844])), ('bias', tensor([0.3068]))])\n",
            "OrderedDict([('weight', tensor([0.6860])), ('bias', tensor([0.3058]))])\n",
            "OrderedDict([('weight', tensor([0.6878])), ('bias', tensor([0.3053]))])\n",
            "OrderedDict([('weight', tensor([0.6894])), ('bias', tensor([0.3043]))])\n",
            "OrderedDict([('weight', tensor([0.6912])), ('bias', tensor([0.3038]))])\n",
            "OrderedDict([('weight', tensor([0.6927])), ('bias', tensor([0.3028]))])\n",
            "OrderedDict([('weight', tensor([0.6947])), ('bias', tensor([0.3028]))])\n",
            "OrderedDict([('weight', tensor([0.6951])), ('bias', tensor([0.2993]))])\n",
            "OrderedDict([('weight', tensor([0.6990])), ('bias', tensor([0.3093]))])\n",
            "epoch: 70   , loss: 0.008932482451200485, test loss: 0.005023092031478882\n",
            "OrderedDict([('weight', tensor([0.6951])), ('bias', tensor([0.2993]))])\n",
            "OrderedDict([('weight', tensor([0.6990])), ('bias', tensor([0.3093]))])\n",
            "OrderedDict([('weight', tensor([0.6951])), ('bias', tensor([0.2993]))])\n",
            "OrderedDict([('weight', tensor([0.6990])), ('bias', tensor([0.3093]))])\n",
            "OrderedDict([('weight', tensor([0.6951])), ('bias', tensor([0.2993]))])\n",
            "OrderedDict([('weight', tensor([0.6990])), ('bias', tensor([0.3093]))])\n",
            "OrderedDict([('weight', tensor([0.6951])), ('bias', tensor([0.2993]))])\n",
            "OrderedDict([('weight', tensor([0.6990])), ('bias', tensor([0.3093]))])\n",
            "OrderedDict([('weight', tensor([0.6951])), ('bias', tensor([0.2993]))])\n",
            "OrderedDict([('weight', tensor([0.6990])), ('bias', tensor([0.3093]))])\n",
            "epoch: 80   , loss: 0.008932482451200485, test loss: 0.005023092031478882\n",
            "OrderedDict([('weight', tensor([0.6951])), ('bias', tensor([0.2993]))])\n",
            "OrderedDict([('weight', tensor([0.6990])), ('bias', tensor([0.3093]))])\n",
            "OrderedDict([('weight', tensor([0.6951])), ('bias', tensor([0.2993]))])\n",
            "OrderedDict([('weight', tensor([0.6990])), ('bias', tensor([0.3093]))])\n",
            "OrderedDict([('weight', tensor([0.6951])), ('bias', tensor([0.2993]))])\n",
            "OrderedDict([('weight', tensor([0.6990])), ('bias', tensor([0.3093]))])\n",
            "OrderedDict([('weight', tensor([0.6951])), ('bias', tensor([0.2993]))])\n",
            "OrderedDict([('weight', tensor([0.6990])), ('bias', tensor([0.3093]))])\n",
            "OrderedDict([('weight', tensor([0.6951])), ('bias', tensor([0.2993]))])\n",
            "OrderedDict([('weight', tensor([0.6990])), ('bias', tensor([0.3093]))])\n",
            "epoch: 90   , loss: 0.008932482451200485, test loss: 0.005023092031478882\n",
            "OrderedDict([('weight', tensor([0.6951])), ('bias', tensor([0.2993]))])\n",
            "OrderedDict([('weight', tensor([0.6990])), ('bias', tensor([0.3093]))])\n",
            "OrderedDict([('weight', tensor([0.6951])), ('bias', tensor([0.2993]))])\n",
            "OrderedDict([('weight', tensor([0.6990])), ('bias', tensor([0.3093]))])\n",
            "OrderedDict([('weight', tensor([0.6951])), ('bias', tensor([0.2993]))])\n",
            "OrderedDict([('weight', tensor([0.6990])), ('bias', tensor([0.3093]))])\n",
            "OrderedDict([('weight', tensor([0.6951])), ('bias', tensor([0.2993]))])\n",
            "OrderedDict([('weight', tensor([0.6990])), ('bias', tensor([0.3093]))])\n",
            "OrderedDict([('weight', tensor([0.6951])), ('bias', tensor([0.2993]))])\n",
            "OrderedDict([('weight', tensor([0.6990])), ('bias', tensor([0.3093]))])\n"
          ]
        }
      ]
    },
    {
      "cell_type": "code",
      "source": [
        "model_0.state_dict()"
      ],
      "metadata": {
        "colab": {
          "base_uri": "https://localhost:8080/"
        },
        "id": "K-hIuJEr6oLy",
        "outputId": "65a37601-ef27-4ba5-9ed3-6c41c6016a02"
      },
      "execution_count": 144,
      "outputs": [
        {
          "output_type": "execute_result",
          "data": {
            "text/plain": [
              "OrderedDict([('weight', tensor([0.6990])), ('bias', tensor([0.3093]))])"
            ]
          },
          "metadata": {},
          "execution_count": 144
        }
      ]
    },
    {
      "cell_type": "code",
      "source": [
        "weight,bias"
      ],
      "metadata": {
        "colab": {
          "base_uri": "https://localhost:8080/"
        },
        "id": "bfxBFqsG6tzM",
        "outputId": "f72a3d4a-83d5-40d8-d5c1-ad07ec405b54"
      },
      "execution_count": 137,
      "outputs": [
        {
          "output_type": "execute_result",
          "data": {
            "text/plain": [
              "(0.7, 0.3)"
            ]
          },
          "metadata": {},
          "execution_count": 137
        }
      ]
    },
    {
      "cell_type": "code",
      "source": [
        "with torch.inference_mode():\n",
        "   y_preds_new=model_0(x_test)\n",
        ""
      ],
      "metadata": {
        "id": "pHceRJnK9d-S"
      },
      "execution_count": 142,
      "outputs": []
    },
    {
      "cell_type": "code",
      "source": [
        "plot_predictions(predictions=y_preds_new);"
      ],
      "metadata": {
        "colab": {
          "base_uri": "https://localhost:8080/",
          "height": 599
        },
        "id": "3vh_f-sy9rzV",
        "outputId": "8ced7a13-6488-4dcc-9915-4381142e8510"
      },
      "execution_count": 143,
      "outputs": [
        {
          "output_type": "display_data",
          "data": {
            "text/plain": [
              "<Figure size 1000x700 with 1 Axes>"
            ],
            "image/png": "[encoded data removed]"
          },
          "metadata": {}
        }
      ]
    },
    {
      "cell_type": "code",
      "source": [],
      "metadata": {
        "id": "7VVezsYb9xHx"
      },
      "execution_count": 143,
      "outputs": []
    },
    {
      "cell_type": "code",
      "source": [],
      "metadata": {
        "id": "YeCUB30N_wVs"
      },
      "execution_count": 140,
      "outputs": []
    }
  ]
}