{
  "nbformat": 4,
  "nbformat_minor": 0,
  "metadata": {
    "colab": {
      "provenance": [],
      "gpuType": "T4"
    },
    "kernelspec": {
      "name": "python3",
      "display_name": "Python 3"
    },
    "language_info": {
      "name": "python"
    },
    "accelerator": "GPU"
  },
  "cells": [
    {
      "cell_type": "markdown",
      "source": [
        "welcome to chapter 2 of pytorch\n"
      ],
      "metadata": {
        "id": "CrYwhiPP7VoW"
      }
    },
    {
      "cell_type": "code",
      "source": [],
      "metadata": {
        "id": "3Pz-JMtVcVS_"
      },
      "execution_count": null,
      "outputs": []
    },
    {
      "cell_type": "code",
      "source": [
        "import torch\n",
        "from torch import nn\n",
        "import matplotlib.pyplot as plt\n"
      ],
      "metadata": {
        "id": "vXXweT5-7bcR"
      },
      "execution_count": 1,
      "outputs": []
    },
    {
      "cell_type": "code",
      "source": [
        "weight=0.7\n",
        "bias=0.3\n",
        "\n",
        "start=0\n",
        "end=1\n",
        "step=0.02\n",
        "x=torch.arange(start, end, step).unsqueeze(dim=1)\n",
        "y=x*weight+bias\n",
        "x,y"
      ],
      "metadata": {
        "colab": {
          "base_uri": "https://localhost:8080/"
        },
        "id": "RlA87pur8bg2",
        "outputId": "31d49e97-1df8-4394-99a7-c2159c75ba76"
      },
      "execution_count": 2,
      "outputs": [
        {
          "output_type": "execute_result",
          "data": {
            "text/plain": [
              "(tensor([[0.0000],\n",
              "         [0.0200],\n",
              "         [0.0400],\n",
              "         [0.0600],\n",
              "         [0.0800],\n",
              "         [0.1000],\n",
              "         [0.1200],\n",
              "         [0.1400],\n",
              "         [0.1600],\n",
              "         [0.1800],\n",
              "         [0.2000],\n",
              "         [0.2200],\n",
              "         [0.2400],\n",
              "         [0.2600],\n",
              "         [0.2800],\n",
              "         [0.3000],\n",
              "         [0.3200],\n",
              "         [0.3400],\n",
              "         [0.3600],\n",
              "         [0.3800],\n",
              "         [0.4000],\n",
              "         [0.4200],\n",
              "         [0.4400],\n",
              "         [0.4600],\n",
              "         [0.4800],\n",
              "         [0.5000],\n",
              "         [0.5200],\n",
              "         [0.5400],\n",
              "         [0.5600],\n",
              "         [0.5800],\n",
              "         [0.6000],\n",
              "         [0.6200],\n",
              "         [0.6400],\n",
              "         [0.6600],\n",
              "         [0.6800],\n",
              "         [0.7000],\n",
              "         [0.7200],\n",
              "         [0.7400],\n",
              "         [0.7600],\n",
              "         [0.7800],\n",
              "         [0.8000],\n",
              "         [0.8200],\n",
              "         [0.8400],\n",
              "         [0.8600],\n",
              "         [0.8800],\n",
              "         [0.9000],\n",
              "         [0.9200],\n",
              "         [0.9400],\n",
              "         [0.9600],\n",
              "         [0.9800]]),\n",
              " tensor([[0.3000],\n",
              "         [0.3140],\n",
              "         [0.3280],\n",
              "         [0.3420],\n",
              "         [0.3560],\n",
              "         [0.3700],\n",
              "         [0.3840],\n",
              "         [0.3980],\n",
              "         [0.4120],\n",
              "         [0.4260],\n",
              "         [0.4400],\n",
              "         [0.4540],\n",
              "         [0.4680],\n",
              "         [0.4820],\n",
              "         [0.4960],\n",
              "         [0.5100],\n",
              "         [0.5240],\n",
              "         [0.5380],\n",
              "         [0.5520],\n",
              "         [0.5660],\n",
              "         [0.5800],\n",
              "         [0.5940],\n",
              "         [0.6080],\n",
              "         [0.6220],\n",
              "         [0.6360],\n",
              "         [0.6500],\n",
              "         [0.6640],\n",
              "         [0.6780],\n",
              "         [0.6920],\n",
              "         [0.7060],\n",
              "         [0.7200],\n",
              "         [0.7340],\n",
              "         [0.7480],\n",
              "         [0.7620],\n",
              "         [0.7760],\n",
              "         [0.7900],\n",
              "         [0.8040],\n",
              "         [0.8180],\n",
              "         [0.8320],\n",
              "         [0.8460],\n",
              "         [0.8600],\n",
              "         [0.8740],\n",
              "         [0.8880],\n",
              "         [0.9020],\n",
              "         [0.9160],\n",
              "         [0.9300],\n",
              "         [0.9440],\n",
              "         [0.9580],\n",
              "         [0.9720],\n",
              "         [0.9860]]))"
            ]
          },
          "metadata": {},
          "execution_count": 2
        }
      ]
    },
    {
      "cell_type": "code",
      "source": [
        "len(x),len(y)"
      ],
      "metadata": {
        "colab": {
          "base_uri": "https://localhost:8080/"
        },
        "id": "P9z3k_xR8nJ6",
        "outputId": "da417c21-25f1-4dfd-c108-85a5a48249fc"
      },
      "execution_count": 3,
      "outputs": [
        {
          "output_type": "execute_result",
          "data": {
            "text/plain": [
              "(50, 50)"
            ]
          },
          "metadata": {},
          "execution_count": 3
        }
      ]
    },
    {
      "cell_type": "markdown",
      "source": [
        "splitting data into train and test dataset"
      ],
      "metadata": {
        "id": "siUyHJXb96zM"
      }
    },
    {
      "cell_type": "code",
      "source": [
        "split=int(0.8*len(x))\n",
        "x_train=x[0:split]\n",
        "y_train=y[0:split]\n",
        "\n",
        "x_test=x[split:]\n",
        "y_test=y[split:]\n"
      ],
      "metadata": {
        "id": "fZCiGO9w9pD0"
      },
      "execution_count": 4,
      "outputs": []
    },
    {
      "cell_type": "markdown",
      "source": [
        "using figure to understand the dataset using matplotlib"
      ],
      "metadata": {
        "id": "ONuSsgmG_3mL"
      }
    },
    {
      "cell_type": "code",
      "source": [
        "def plot_predictions(train_data=x_train,\n",
        "                     train_label=y_train,\n",
        "                     test_data=x_test,\n",
        "                     test_label=y_test,\n",
        "                     predictions=None):\n",
        "  plt.figure(figsize=(10,7))\n",
        "  plt.scatter(train_data,train_label,color=\"g\",s=10,label=\"train\") #s=size\n",
        "  plt.scatter(test_data,test_label,color=\"b\",label=\"test\")\n",
        "\n",
        "  if predictions is not None:\n",
        "     plt.scatter(test_data,predictions,color=\"r\",s=10,label=\"preditcions\") #s=size\n",
        "  plt.legend()\n",
        "\n",
        "\n"
      ],
      "metadata": {
        "id": "bsNOjKTb_bQ6"
      },
      "execution_count": 5,
      "outputs": []
    },
    {
      "cell_type": "code",
      "source": [
        "plot_predictions()"
      ],
      "metadata": {
        "colab": {
          "base_uri": "https://localhost:8080/",
          "height": 599
        },
        "id": "F4M8PClX_7xM",
        "outputId": "db36bf32-7aa5-48f1-9ef5-42f1fc1c7cd8"
      },
      "execution_count": 6,
      "outputs": [
        {
          "output_type": "display_data",
          "data": {
            "text/plain": [
              "<Figure size 1000x700 with 1 Axes>"
            ],
            "image/png": "[encoded data removed]"
          },
          "metadata": {}
        }
      ]
    },
    {
      "cell_type": "markdown",
      "source": [
        "building the first pytorch model"
      ],
      "metadata": {
        "id": "8OxQaaabPFFU"
      }
    },
    {
      "cell_type": "code",
      "source": [
        "from torch import nn\n",
        "#create a linear regression model class\n",
        "\n",
        "class LinearRegModel(nn.Module):\n",
        "  def __init__(self):\n",
        "    super().__init__()\n",
        "    self.weight=nn.Parameter(torch.randn(1,\n",
        "                                        requires_grad=True,\n",
        "                                        dtype=torch.float))\n",
        "\n",
        "    self.bias=nn.Parameter(torch.randn(1,\n",
        "                                        requires_grad=True,\n",
        "                                        dtype=torch.float))\n",
        "\n",
        "#forward menthod to define computation in    the model\n",
        "\n",
        "  def forward(self,x:torch.Tensor)->torch.Tensor:\n",
        "    return self.weight*x+self.bias\n"
      ],
      "metadata": {
        "id": "ui5Br10ZBdkN"
      },
      "execution_count": 7,
      "outputs": []
    },
    {
      "cell_type": "code",
      "source": [
        "#creating a random seed\n",
        "# torch.manual_seed(42)\n",
        "\n",
        "# model_0=LinearRegModel()  commented line 2 and 4 at 6.42.43,tyo vanda agadi chai commented theana\n",
        "\n",
        "list(model_0.parameters())\n"
      ],
      "metadata": {
        "colab": {
          "base_uri": "https://localhost:8080/"
        },
        "id": "7t9taEzXYULa",
        "outputId": "c712d48b-4ab9-4bef-8b8f-fe0aff5719df"
      },
      "execution_count": 8,
      "outputs": [
        {
          "output_type": "execute_result",
          "data": {
            "text/plain": [
              "[Parameter containing:\n",
              " tensor([0.3367], requires_grad=True),\n",
              " Parameter containing:\n",
              " tensor([0.1288], requires_grad=True)]"
            ]
          },
          "metadata": {},
          "execution_count": 8
        }
      ]
    },
    {
      "cell_type": "markdown",
      "source": [
        "dont forget to search difference between torch.rand and torch.randn"
      ],
      "metadata": {
        "id": "sv3aCz1Oa9ZX"
      }
    },
    {
      "cell_type": "code",
      "source": [
        "model_0.state_dict()"
      ],
      "metadata": {
        "colab": {
          "base_uri": "https://localhost:8080/"
        },
        "id": "VHpQGLKnm5TV",
        "outputId": "520f0a89-9503-4253-c0eb-9564c87451fb"
      },
      "execution_count": 9,
      "outputs": [
        {
          "output_type": "execute_result",
          "data": {
            "text/plain": [
              "OrderedDict([('weight', tensor([0.3367])), ('bias', tensor([0.1288]))])"
            ]
          },
          "metadata": {},
          "execution_count": 9
        }
      ]
    },
    {
      "cell_type": "code",
      "source": [
        "with torch.inference_mode():\n",
        "  y_preds=model_0(x_test)\n",
        "y_preds\n"
      ],
      "metadata": {
        "colab": {
          "base_uri": "https://localhost:8080/"
        },
        "id": "Fc2WXPSYnIBM",
        "outputId": "3728eff3-f2bf-44b7-b918-415c1e0dfea3"
      },
      "execution_count": 10,
      "outputs": [
        {
          "output_type": "execute_result",
          "data": {
            "text/plain": [
              "tensor([[0.3982],\n",
              "        [0.4049],\n",
              "        [0.4116],\n",
              "        [0.4184],\n",
              "        [0.4251],\n",
              "        [0.4318],\n",
              "        [0.4386],\n",
              "        [0.4453],\n",
              "        [0.4520],\n",
              "        [0.4588]])"
            ]
          },
          "metadata": {},
          "execution_count": 10
        }
      ]
    },
    {
      "cell_type": "code",
      "source": [
        "y_test"
      ],
      "metadata": {
        "colab": {
          "base_uri": "https://localhost:8080/"
        },
        "id": "qeyfm2zboW86",
        "outputId": "7f9d0189-975e-4985-f4f4-53a2a452e071"
      },
      "execution_count": 11,
      "outputs": [
        {
          "output_type": "execute_result",
          "data": {
            "text/plain": [
              "tensor([[0.8600],\n",
              "        [0.8740],\n",
              "        [0.8880],\n",
              "        [0.9020],\n",
              "        [0.9160],\n",
              "        [0.9300],\n",
              "        [0.9440],\n",
              "        [0.9580],\n",
              "        [0.9720],\n",
              "        [0.9860]])"
            ]
          },
          "metadata": {},
          "execution_count": 11
        }
      ]
    },
    {
      "cell_type": "code",
      "source": [
        "plot_predictions(predictions=y_preds)"
      ],
      "metadata": {
        "colab": {
          "base_uri": "https://localhost:8080/",
          "height": 599
        },
        "id": "6cfIKYd2ps-R",
        "outputId": "d3dab62c-383c-4f5e-906f-dade25c91684"
      },
      "execution_count": 12,
      "outputs": [
        {
          "output_type": "display_data",
          "data": {
            "text/plain": [
              "<Figure size 1000x700 with 1 Axes>"
            ],
            "image/png": "[encoded data removed]"
          },
          "metadata": {}
        }
      ]
    },
    {
      "cell_type": "code",
      "source": [
        "#setting up loss func\n",
        "loss_fn=nn.L1Loss()\n",
        "\n",
        "\n",
        "#setting up optimizer\n",
        "optimizer=torch.optim.SGD(params=model_0.parameters(),lr=0.01)  #lr=learning rate=u need to set it ourself\n",
        "\n"
      ],
      "metadata": {
        "id": "NjXCGAykp3oi"
      },
      "execution_count": 15,
      "outputs": []
    },
    {
      "cell_type": "code",
      "source": [
        " list(model_0.parameters())"
      ],
      "metadata": {
        "colab": {
          "base_uri": "https://localhost:8080/"
        },
        "id": "nj7Y7FLMvyPn",
        "outputId": "73d5dce4-0a2a-48f2-a3db-d9663b176767"
      },
      "execution_count": 19,
      "outputs": [
        {
          "output_type": "execute_result",
          "data": {
            "text/plain": [
              "[Parameter containing:\n",
              " tensor([0.3367], requires_grad=True),\n",
              " Parameter containing:\n",
              " tensor([0.1288], requires_grad=True)]"
            ]
          },
          "metadata": {},
          "execution_count": 19
        }
      ]
    },
    {
      "cell_type": "code",
      "source": [
        "torch.manual_seed(42)\n",
        "\n",
        "\n",
        "#building a training and testing loop in pytorch\n",
        "epochs=1  #epoch is the one  loop through the data...\n",
        "\n",
        "\n",
        "\n",
        "#training the model\n",
        "\n",
        "for epoch in range(epochs):\n",
        "  #set the model to training mode\n",
        "  model_0.train()\n",
        "\n",
        "  #1 forward pass\n",
        "  y_preds=model_0(x_train)\n",
        "\n",
        "  #2 calculate the loss\n",
        "  loss=loss_fn(y_preds,x_train)\n",
        "\n",
        "  #3 optimizer zero grad\n",
        "  optimizer.zero_grad()\n",
        "\n",
        "  #4 perform backpropagartion on loss with respect to the paraeters of the model\n",
        "  loss.backward()\n",
        "\n",
        "  #5 step the optimizer(perform gradient decent)\n",
        "  optimizer.step()\n",
        "\n",
        "\n",
        "\n",
        "  model_0.eval() #turns off the gradient tracking\n",
        "\n",
        "#6.60.1"
      ],
      "metadata": {
        "id": "w50Yp-W_uMUV"
      },
      "execution_count": 20,
      "outputs": []
    },
    {
      "cell_type": "markdown",
      "source": [
        "l"
      ],
      "metadata": {
        "id": "tXZLWTntuepT"
      }
    }
  ]
}