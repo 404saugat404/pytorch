{
  "cells": [
    {
      "cell_type": "code",
      "execution_count": 1,
      "metadata": {
        "id": "J2LBXN63Vq-x"
      },
      "outputs": [],
      "source": [
        "import torch  # a revision practise of chapter 0 of pytorch\n"
      ]
    },
    {
      "cell_type": "code",
      "execution_count": 2,
      "metadata": {
        "id": "P_10l-vLV5wo"
      },
      "outputs": [],
      "source": [
        "scalar=torch.tensor(4)"
      ]
    },
    {
      "cell_type": "code",
      "execution_count": 7,
      "metadata": {
        "colab": {
          "base_uri": "https://localhost:8080/"
        },
        "id": "fspbcQ4AV932",
        "outputId": "7f370890-763d-4087-83e7-7c848f937b3f"
      },
      "outputs": [
        {
          "data": {
            "text/plain": [
              "<function Tensor.size>"
            ]
          },
          "execution_count": 7,
          "metadata": {},
          "output_type": "execute_result"
        }
      ],
      "source": [
        "scalar.size"
      ]
    },
    {
      "cell_type": "code",
      "execution_count": 9,
      "metadata": {
        "colab": {
          "base_uri": "https://localhost:8080/"
        },
        "id": "JgHcuQV0WBbw",
        "outputId": "87d9d94b-2b1f-426e-96bb-d2f96f3cfa96"
      },
      "outputs": [
        {
          "data": {
            "text/plain": [
              "4"
            ]
          },
          "execution_count": 9,
          "metadata": {},
          "output_type": "execute_result"
        }
      ],
      "source": [
        "scalar.item()"
      ]
    },
    {
      "cell_type": "code",
      "execution_count": 13,
      "metadata": {
        "colab": {
          "base_uri": "https://localhost:8080/"
        },
        "id": "Z69-jSpPWJhG",
        "outputId": "3b83a2f8-a230-489c-8ef6-318a86e30119"
      },
      "outputs": [
        {
          "data": {
            "text/plain": [
              "torch.Size([2])"
            ]
          },
          "execution_count": 13,
          "metadata": {},
          "output_type": "execute_result"
        }
      ],
      "source": [
        "vector=torch.tensor([1,1])\n",
        "vector.shape"
      ]
    },
    {
      "cell_type": "code",
      "execution_count": 20,
      "metadata": {
        "colab": {
          "base_uri": "https://localhost:8080/"
        },
        "id": "pI862xUOWOvh",
        "outputId": "dd063726-614c-4f2c-a1e4-0686277519ee"
      },
      "outputs": [
        {
          "data": {
            "text/plain": [
              "torch.Size([3, 2])"
            ]
          },
          "execution_count": 20,
          "metadata": {},
          "output_type": "execute_result"
        }
      ],
      "source": [
        "matrix=torch.tensor([[2,3],[2,4],[3,4]])\n",
        "matrix.shape"
      ]
    },
    {
      "cell_type": "code",
      "execution_count": null,
      "metadata": {
        "id": "aBZxfo61XoPQ"
      },
      "outputs": [],
      "source": []
    },
    {
      "cell_type": "code",
      "execution_count": 34,
      "metadata": {
        "colab": {
          "base_uri": "https://localhost:8080/"
        },
        "id": "14ioP6hxWgSX",
        "outputId": "5759067b-8806-438e-ed5f-46803f13b357"
      },
      "outputs": [
        {
          "data": {
            "text/plain": [
              "(3,\n",
              " tensor([[[3.0218e-01, 1.3857e-01, 2.9735e-01, 5.0978e-01],\n",
              "          [3.5259e-01, 8.2829e-01, 2.3244e-02, 4.3843e-01],\n",
              "          [2.8642e-01, 9.5831e-01, 8.4605e-01, 6.6425e-01]],\n",
              " \n",
              "         [[9.9622e-01, 7.1107e-01, 5.3366e-02, 6.8509e-01],\n",
              "          [3.2920e-01, 2.9469e-01, 3.9806e-01, 7.4490e-01],\n",
              "          [8.9136e-01, 9.5979e-01, 3.2830e-01, 3.5347e-01]],\n",
              " \n",
              "         [[2.5782e-01, 5.1819e-02, 6.3952e-01, 3.6779e-01],\n",
              "          [5.9286e-01, 4.0453e-01, 2.1223e-01, 4.2872e-01],\n",
              "          [6.9390e-01, 4.1426e-01, 7.2768e-01, 6.1488e-01]],\n",
              " \n",
              "         [[7.7165e-02, 7.6747e-01, 7.0639e-01, 8.1307e-04],\n",
              "          [8.5798e-01, 4.0292e-01, 6.8414e-01, 6.3421e-01],\n",
              "          [4.5747e-01, 4.4222e-01, 8.4722e-01, 3.2062e-01]],\n",
              " \n",
              "         [[9.2376e-01, 3.7074e-01, 9.2392e-01, 4.2602e-01],\n",
              "          [1.5700e-02, 8.7903e-01, 8.8232e-01, 6.8674e-01],\n",
              "          [2.3271e-01, 9.8883e-01, 6.7153e-02, 4.6072e-01]]]))"
            ]
          },
          "execution_count": 34,
          "metadata": {},
          "output_type": "execute_result"
        }
      ],
      "source": [
        "rand_tens=torch.rand(size=(5,3,4))\n",
        "rand_tens.ndim,rand_tens"
      ]
    },
    {
      "cell_type": "code",
      "execution_count": 29,
      "metadata": {
        "colab": {
          "base_uri": "https://localhost:8080/"
        },
        "id": "g9zT-dv3W8n1",
        "outputId": "685a0bf0-de01-4734-bf8d-69e39b27560a"
      },
      "outputs": [
        {
          "data": {
            "text/plain": [
              "torch.float32"
            ]
          },
          "execution_count": 29,
          "metadata": {},
          "output_type": "execute_result"
        }
      ],
      "source": [
        "rand_tens.dtype"
      ]
    },
    {
      "cell_type": "code",
      "execution_count": 45,
      "metadata": {
        "colab": {
          "base_uri": "https://localhost:8080/"
        },
        "id": "_7FK2jSnXRMx",
        "outputId": "3b58e3b5-b80b-43c9-e3ab-271b3d9c3de5"
      },
      "outputs": [
        {
          "data": {
            "text/plain": [
              "(tensor([1, 2, 3, 4, 5, 6, 7, 8, 9]), torch.Size([9]), torch.int64)"
            ]
          },
          "execution_count": 45,
          "metadata": {},
          "output_type": "execute_result"
        }
      ],
      "source": [
        "arng=torch.arange(1,10,1)\n",
        "arng, arng.shape, arng.dtype"
      ]
    },
    {
      "cell_type": "code",
      "execution_count": 47,
      "metadata": {
        "colab": {
          "base_uri": "https://localhost:8080/"
        },
        "id": "O9cfxjfGX1Qo",
        "outputId": "0816dce9-d757-49df-d13f-4c95124289a5"
      },
      "outputs": [
        {
          "data": {
            "text/plain": [
              "torch.float32"
            ]
          },
          "execution_count": 47,
          "metadata": {},
          "output_type": "execute_result"
        }
      ],
      "source": [
        "hello=arng.type(torch.float32)\n",
        "hello.dtype"
      ]
    },
    {
      "cell_type": "code",
      "execution_count": 61,
      "metadata": {
        "colab": {
          "base_uri": "https://localhost:8080/"
        },
        "id": "tDMW7dTyYKF4",
        "outputId": "17a20b66-ae8f-4a89-fc09-fa5a1635fa62"
      },
      "outputs": [
        {
          "data": {
            "text/plain": [
              "tensor(9)"
            ]
          },
          "execution_count": 61,
          "metadata": {},
          "output_type": "execute_result"
        }
      ],
      "source": [
        "range=torch.arange(1,100,10)\n",
        "range.dtype\n",
        "range1=range.type(torch.float32)\n",
        "range1.argmax()"
      ]
    },
    {
      "cell_type": "code",
      "execution_count": null,
      "metadata": {
        "id": "7SXa3CRcY8VK"
      },
      "outputs": [],
      "source": []
    }
  ],
  "metadata": {
    "colab": {
      "provenance": []
    },
    "kernelspec": {
      "display_name": "Python 3",
      "name": "python3"
    },
    "language_info": {
      "name": "python"
    }
  },
  "nbformat": 4,
  "nbformat_minor": 0
}
