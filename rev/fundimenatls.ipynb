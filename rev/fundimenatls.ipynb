{
  "nbformat": 4,
  "nbformat_minor": 0,
  "metadata": {
    "colab": {
      "provenance": [],
      "gpuType": "T4"
    },
    "kernelspec": {
      "name": "python3",
      "display_name": "Python 3"
    },
    "language_info": {
      "name": "python"
    },
    "accelerator": "GPU"
  },
  "cells": [
    {
      "cell_type": "code",
      "execution_count": 484,
      "metadata": {
        "id": "xh2EWHaraoag"
      },
      "outputs": [],
      "source": [
        "import torch\n",
        "from torch import nn"
      ]
    },
    {
      "cell_type": "code",
      "source": [
        "weight=0.7\n",
        "bias=0.3"
      ],
      "metadata": {
        "id": "pfrx6L2gaXpb"
      },
      "execution_count": 485,
      "outputs": []
    },
    {
      "cell_type": "code",
      "source": [
        "X=torch.arange(0,1,0.02).unsqueeze(1)\n",
        "y=weight*X+bias"
      ],
      "metadata": {
        "id": "wOEGkLvrplVZ"
      },
      "execution_count": 486,
      "outputs": []
    },
    {
      "cell_type": "code",
      "source": [
        "X[:10],y[:10]"
      ],
      "metadata": {
        "colab": {
          "base_uri": "https://localhost:8080/"
        },
        "id": "CDA6uYBqhRWx",
        "outputId": "a9e16e76-057d-43b2-8c0b-956848662dad"
      },
      "execution_count": 487,
      "outputs": [
        {
          "output_type": "execute_result",
          "data": {
            "text/plain": [
              "(tensor([[0.0000],\n",
              "         [0.0200],\n",
              "         [0.0400],\n",
              "         [0.0600],\n",
              "         [0.0800],\n",
              "         [0.1000],\n",
              "         [0.1200],\n",
              "         [0.1400],\n",
              "         [0.1600],\n",
              "         [0.1800]]),\n",
              " tensor([[0.3000],\n",
              "         [0.3140],\n",
              "         [0.3280],\n",
              "         [0.3420],\n",
              "         [0.3560],\n",
              "         [0.3700],\n",
              "         [0.3840],\n",
              "         [0.3980],\n",
              "         [0.4120],\n",
              "         [0.4260]]))"
            ]
          },
          "metadata": {},
          "execution_count": 487
        }
      ]
    },
    {
      "cell_type": "code",
      "source": [
        "len(X),len(y)"
      ],
      "metadata": {
        "colab": {
          "base_uri": "https://localhost:8080/"
        },
        "id": "OIWVasBUa5-K",
        "outputId": "bac6be60-e8cf-443c-e04e-5a9623e1f095"
      },
      "execution_count": 488,
      "outputs": [
        {
          "output_type": "execute_result",
          "data": {
            "text/plain": [
              "(50, 50)"
            ]
          },
          "metadata": {},
          "execution_count": 488
        }
      ]
    },
    {
      "cell_type": "code",
      "source": [
        "#slitting dataset into training and testing part\n",
        "split=int(0.8*len(X))\n",
        "\n",
        "X_train,X_test=X[:split],X[split:]\n",
        "\n",
        "y_train,y_test=y[:split],y[split:]\n",
        "\n",
        "len(X_train),len(y_train),len(X_test),len(y_test)"
      ],
      "metadata": {
        "id": "qZ5_VwQDptTi",
        "colab": {
          "base_uri": "https://localhost:8080/"
        },
        "outputId": "2bb97a93-bbad-45c8-a564-2801d3e843f5"
      },
      "execution_count": 489,
      "outputs": [
        {
          "output_type": "execute_result",
          "data": {
            "text/plain": [
              "(40, 40, 10, 10)"
            ]
          },
          "metadata": {},
          "execution_count": 489
        }
      ]
    },
    {
      "cell_type": "code",
      "source": [
        "#making plots\n",
        "import matplotlib.pyplot as plt\n",
        "\n",
        "def plot_predictions(\n",
        "    train_data=X_train,\n",
        "    train_label=y_train,\n",
        "    test_data=X_test,\n",
        "    test_label=y_test,\n",
        "    predictions=None):\n",
        "\n",
        "  plt.figure(figsize=(10,7))\n",
        "  plt.scatter(train_data,train_label,c='b',s=4,label=\"training data\")\n",
        "\n",
        "  plt.scatter(test_data,test_label,c='g',s=4,label=\"test data\")\n",
        "\n",
        "  if predictions is not None:\n",
        "    plt.scatter(test_data,predictions,c='r',s=4,label=\"predictions\")\n",
        "\n",
        "\n",
        "  plt.legend(prop={\"size\": 14});\n",
        "\n",
        "\n"
      ],
      "metadata": {
        "id": "5kTKuuM0aKsm"
      },
      "execution_count": 490,
      "outputs": []
    },
    {
      "cell_type": "code",
      "source": [
        "plot_predictions()"
      ],
      "metadata": {
        "colab": {
          "base_uri": "https://localhost:8080/",
          "height": 592
        },
        "id": "iCLkBV7Adn8t",
        "outputId": "082f7678-1f53-4275-db03-1352b97bb532"
      },
      "execution_count": 491,
      "outputs": [
        {
          "output_type": "display_data",
          "data": {
            "text/plain": [
              "<Figure size 1000x700 with 1 Axes>"
            ],
            "image/png": "[encoded data removed]"
          },
          "metadata": {}
        }
      ]
    },
    {
      "cell_type": "code",
      "source": [
        "#creating a model\n",
        "class lin_reg_model(nn.Module):\n",
        "  def __init__(self):\n",
        "    super().__init__()\n",
        "\n",
        "    self.w=nn.Parameter(torch.randn(1,dtype=torch.float),\n",
        "                        requires_grad=True)\n",
        "\n",
        "\n",
        "    self.b=nn.Parameter(torch.randn(1,dtype=torch.float32),\n",
        "        requires_grad=True)\n",
        "\n",
        "\n",
        "  def forward(self,x):\n",
        "    return self.w*x+self.b"
      ],
      "metadata": {
        "id": "nE-mC9dUdpjt"
      },
      "execution_count": 492,
      "outputs": []
    },
    {
      "cell_type": "code",
      "source": [
        "torch.manual_seed(42)\n",
        "#initializing the model\n",
        "model_0=lin_reg_model()\n",
        "list(model_0.parameters())"
      ],
      "metadata": {
        "colab": {
          "base_uri": "https://localhost:8080/"
        },
        "id": "8PD3q9azjl3R",
        "outputId": "aa226254-6baa-4f87-a3c4-0b746097227d"
      },
      "execution_count": 493,
      "outputs": [
        {
          "output_type": "execute_result",
          "data": {
            "text/plain": [
              "[Parameter containing:\n",
              " tensor([0.3367], requires_grad=True),\n",
              " Parameter containing:\n",
              " tensor([0.1288], requires_grad=True)]"
            ]
          },
          "metadata": {},
          "execution_count": 493
        }
      ]
    },
    {
      "cell_type": "code",
      "source": [
        "model_0.state_dict()"
      ],
      "metadata": {
        "colab": {
          "base_uri": "https://localhost:8080/"
        },
        "id": "OWoYgvQqf92g",
        "outputId": "610704c6-ed82-401b-e0c0-154e868a5c27"
      },
      "execution_count": 494,
      "outputs": [
        {
          "output_type": "execute_result",
          "data": {
            "text/plain": [
              "OrderedDict([('w', tensor([0.3367])), ('b', tensor([0.1288]))])"
            ]
          },
          "metadata": {},
          "execution_count": 494
        }
      ]
    },
    {
      "cell_type": "code",
      "source": [
        "#evaluating the model\n",
        "with torch.inference_mode():\n",
        "  y_pred=model_0(X_test)\n",
        ""
      ],
      "metadata": {
        "id": "hyo0fT_VgKlQ"
      },
      "execution_count": 495,
      "outputs": []
    },
    {
      "cell_type": "code",
      "source": [
        "y_pred"
      ],
      "metadata": {
        "colab": {
          "base_uri": "https://localhost:8080/"
        },
        "id": "J_Ifo2p6gobe",
        "outputId": "b51ec03f-78f7-436f-8bf6-c9e3ef5a5901"
      },
      "execution_count": 496,
      "outputs": [
        {
          "output_type": "execute_result",
          "data": {
            "text/plain": [
              "tensor([[0.3982],\n",
              "        [0.4049],\n",
              "        [0.4116],\n",
              "        [0.4184],\n",
              "        [0.4251],\n",
              "        [0.4318],\n",
              "        [0.4386],\n",
              "        [0.4453],\n",
              "        [0.4520],\n",
              "        [0.4588]])"
            ]
          },
          "metadata": {},
          "execution_count": 496
        }
      ]
    },
    {
      "cell_type": "code",
      "source": [
        "plot_predictions(predictions=y_pred)"
      ],
      "metadata": {
        "colab": {
          "base_uri": "https://localhost:8080/",
          "height": 592
        },
        "id": "aNGQT6xTgs9e",
        "outputId": "d1bd2d49-724e-4642-f6bb-e355ccb789a5"
      },
      "execution_count": 497,
      "outputs": [
        {
          "output_type": "display_data",
          "data": {
            "text/plain": [
              "<Figure size 1000x700 with 1 Axes>"
            ],
            "image/png": "[encoded data removed]"
          },
          "metadata": {}
        }
      ]
    },
    {
      "cell_type": "code",
      "source": [
        "loss_fn=nn.L1Loss()\n",
        "optimizer=torch.optim.SGD(params=model_0.parameters(),lr=0.01)"
      ],
      "metadata": {
        "id": "f13Uc9Q9n748"
      },
      "execution_count": 498,
      "outputs": []
    },
    {
      "cell_type": "code",
      "source": [
        "#creating the training and testing loop\n",
        "torch.manual_seed(42)\n",
        "\n",
        "epochs=1000\n",
        "\n",
        "epoch_count=[]\n",
        "train_losses=[]\n",
        "test_losses=[]\n",
        "\n",
        "for epoch in range(epochs):\n",
        "  #training:\n",
        "  model_0.train()\n",
        "\n",
        "  #forward pass\n",
        "  y_pred=model_0(X_train)\n",
        "\n",
        "  #calculate the loss\n",
        "  loss=loss_fn(y_pred,y_train)\n",
        "\n",
        "  #optimizer\n",
        "  optimizer.zero_grad()\n",
        "\n",
        "  loss.backward()\n",
        "\n",
        "  optimizer.step()\n",
        "\n",
        "  #testing loop\n",
        "\n",
        "  model_0.eval()\n",
        "\n",
        "  with torch.inference_mode():\n",
        "    test_pred=model_0(X_test)\n",
        "\n",
        "    test_loss=loss_fn(test_pred,y_test)\n",
        "\n",
        "    if epoch%10==0:\n",
        "      epoch_count.append(epoch)\n",
        "      train_losses.append(loss.detach().numpy())\n",
        "      test_losses.append(test_loss.detach().numpy())\n",
        "      print(f'epoch={epoch}  | train_loss={loss}  |  test_loss={test_loss} ')\n",
        "\n",
        "\n",
        "\n"
      ],
      "metadata": {
        "colab": {
          "base_uri": "https://localhost:8080/"
        },
        "id": "tkBa6sHQgxHb",
        "outputId": "f373e248-26e6-448a-d729-171695b936f9"
      },
      "execution_count": 499,
      "outputs": [
        {
          "output_type": "stream",
          "name": "stdout",
          "text": [
            "epoch=0  | train_loss=0.31288138031959534  |  test_loss=0.48106518387794495 \n",
            "epoch=10  | train_loss=0.1976713240146637  |  test_loss=0.3463551998138428 \n",
            "epoch=20  | train_loss=0.08908725529909134  |  test_loss=0.21729660034179688 \n",
            "epoch=30  | train_loss=0.053148526698350906  |  test_loss=0.14464017748832703 \n",
            "epoch=40  | train_loss=0.04543796554207802  |  test_loss=0.11360953003168106 \n",
            "epoch=50  | train_loss=0.04167863354086876  |  test_loss=0.09919948130846024 \n",
            "epoch=60  | train_loss=0.03818932920694351  |  test_loss=0.08886633068323135 \n",
            "epoch=70  | train_loss=0.03476089984178543  |  test_loss=0.0805937647819519 \n",
            "epoch=80  | train_loss=0.03132382780313492  |  test_loss=0.07232122868299484 \n",
            "epoch=90  | train_loss=0.02788739837706089  |  test_loss=0.06473556160926819 \n",
            "epoch=100  | train_loss=0.024458957836031914  |  test_loss=0.05646304413676262 \n",
            "epoch=110  | train_loss=0.021020207554101944  |  test_loss=0.04819049686193466 \n",
            "epoch=120  | train_loss=0.01758546568453312  |  test_loss=0.04060482233762741 \n",
            "epoch=130  | train_loss=0.014155393466353416  |  test_loss=0.03233227878808975 \n",
            "epoch=140  | train_loss=0.010716589167714119  |  test_loss=0.024059748277068138 \n",
            "epoch=150  | train_loss=0.0072835334576666355  |  test_loss=0.016474086791276932 \n",
            "epoch=160  | train_loss=0.0038517764769494534  |  test_loss=0.008201557211577892 \n",
            "epoch=170  | train_loss=0.008932482451200485  |  test_loss=0.005023092031478882 \n",
            "epoch=180  | train_loss=0.008932482451200485  |  test_loss=0.005023092031478882 \n",
            "epoch=190  | train_loss=0.008932482451200485  |  test_loss=0.005023092031478882 \n",
            "epoch=200  | train_loss=0.008932482451200485  |  test_loss=0.005023092031478882 \n",
            "epoch=210  | train_loss=0.008932482451200485  |  test_loss=0.005023092031478882 \n",
            "epoch=220  | train_loss=0.008932482451200485  |  test_loss=0.005023092031478882 \n",
            "epoch=230  | train_loss=0.008932482451200485  |  test_loss=0.005023092031478882 \n",
            "epoch=240  | train_loss=0.008932482451200485  |  test_loss=0.005023092031478882 \n",
            "epoch=250  | train_loss=0.008932482451200485  |  test_loss=0.005023092031478882 \n",
            "epoch=260  | train_loss=0.008932482451200485  |  test_loss=0.005023092031478882 \n",
            "epoch=270  | train_loss=0.008932482451200485  |  test_loss=0.005023092031478882 \n",
            "epoch=280  | train_loss=0.008932482451200485  |  test_loss=0.005023092031478882 \n",
            "epoch=290  | train_loss=0.008932482451200485  |  test_loss=0.005023092031478882 \n",
            "epoch=300  | train_loss=0.008932482451200485  |  test_loss=0.005023092031478882 \n",
            "epoch=310  | train_loss=0.008932482451200485  |  test_loss=0.005023092031478882 \n",
            "epoch=320  | train_loss=0.008932482451200485  |  test_loss=0.005023092031478882 \n",
            "epoch=330  | train_loss=0.008932482451200485  |  test_loss=0.005023092031478882 \n",
            "epoch=340  | train_loss=0.008932482451200485  |  test_loss=0.005023092031478882 \n",
            "epoch=350  | train_loss=0.008932482451200485  |  test_loss=0.005023092031478882 \n",
            "epoch=360  | train_loss=0.008932482451200485  |  test_loss=0.005023092031478882 \n",
            "epoch=370  | train_loss=0.008932482451200485  |  test_loss=0.005023092031478882 \n",
            "epoch=380  | train_loss=0.008932482451200485  |  test_loss=0.005023092031478882 \n",
            "epoch=390  | train_loss=0.008932482451200485  |  test_loss=0.005023092031478882 \n",
            "epoch=400  | train_loss=0.008932482451200485  |  test_loss=0.005023092031478882 \n",
            "epoch=410  | train_loss=0.008932482451200485  |  test_loss=0.005023092031478882 \n",
            "epoch=420  | train_loss=0.008932482451200485  |  test_loss=0.005023092031478882 \n",
            "epoch=430  | train_loss=0.008932482451200485  |  test_loss=0.005023092031478882 \n",
            "epoch=440  | train_loss=0.008932482451200485  |  test_loss=0.005023092031478882 \n",
            "epoch=450  | train_loss=0.008932482451200485  |  test_loss=0.005023092031478882 \n",
            "epoch=460  | train_loss=0.008932482451200485  |  test_loss=0.005023092031478882 \n",
            "epoch=470  | train_loss=0.008932482451200485  |  test_loss=0.005023092031478882 \n",
            "epoch=480  | train_loss=0.008932482451200485  |  test_loss=0.005023092031478882 \n",
            "epoch=490  | train_loss=0.008932482451200485  |  test_loss=0.005023092031478882 \n",
            "epoch=500  | train_loss=0.008932482451200485  |  test_loss=0.005023092031478882 \n",
            "epoch=510  | train_loss=0.008932482451200485  |  test_loss=0.005023092031478882 \n",
            "epoch=520  | train_loss=0.008932482451200485  |  test_loss=0.005023092031478882 \n",
            "epoch=530  | train_loss=0.008932482451200485  |  test_loss=0.005023092031478882 \n",
            "epoch=540  | train_loss=0.008932482451200485  |  test_loss=0.005023092031478882 \n",
            "epoch=550  | train_loss=0.008932482451200485  |  test_loss=0.005023092031478882 \n",
            "epoch=560  | train_loss=0.008932482451200485  |  test_loss=0.005023092031478882 \n",
            "epoch=570  | train_loss=0.008932482451200485  |  test_loss=0.005023092031478882 \n",
            "epoch=580  | train_loss=0.008932482451200485  |  test_loss=0.005023092031478882 \n",
            "epoch=590  | train_loss=0.008932482451200485  |  test_loss=0.005023092031478882 \n",
            "epoch=600  | train_loss=0.008932482451200485  |  test_loss=0.005023092031478882 \n",
            "epoch=610  | train_loss=0.008932482451200485  |  test_loss=0.005023092031478882 \n",
            "epoch=620  | train_loss=0.008932482451200485  |  test_loss=0.005023092031478882 \n",
            "epoch=630  | train_loss=0.008932482451200485  |  test_loss=0.005023092031478882 \n",
            "epoch=640  | train_loss=0.008932482451200485  |  test_loss=0.005023092031478882 \n",
            "epoch=650  | train_loss=0.008932482451200485  |  test_loss=0.005023092031478882 \n",
            "epoch=660  | train_loss=0.008932482451200485  |  test_loss=0.005023092031478882 \n",
            "epoch=670  | train_loss=0.008932482451200485  |  test_loss=0.005023092031478882 \n",
            "epoch=680  | train_loss=0.008932482451200485  |  test_loss=0.005023092031478882 \n",
            "epoch=690  | train_loss=0.008932482451200485  |  test_loss=0.005023092031478882 \n",
            "epoch=700  | train_loss=0.008932482451200485  |  test_loss=0.005023092031478882 \n",
            "epoch=710  | train_loss=0.008932482451200485  |  test_loss=0.005023092031478882 \n",
            "epoch=720  | train_loss=0.008932482451200485  |  test_loss=0.005023092031478882 \n",
            "epoch=730  | train_loss=0.008932482451200485  |  test_loss=0.005023092031478882 \n",
            "epoch=740  | train_loss=0.008932482451200485  |  test_loss=0.005023092031478882 \n",
            "epoch=750  | train_loss=0.008932482451200485  |  test_loss=0.005023092031478882 \n",
            "epoch=760  | train_loss=0.008932482451200485  |  test_loss=0.005023092031478882 \n",
            "epoch=770  | train_loss=0.008932482451200485  |  test_loss=0.005023092031478882 \n",
            "epoch=780  | train_loss=0.008932482451200485  |  test_loss=0.005023092031478882 \n",
            "epoch=790  | train_loss=0.008932482451200485  |  test_loss=0.005023092031478882 \n",
            "epoch=800  | train_loss=0.008932482451200485  |  test_loss=0.005023092031478882 \n",
            "epoch=810  | train_loss=0.008932482451200485  |  test_loss=0.005023092031478882 \n",
            "epoch=820  | train_loss=0.008932482451200485  |  test_loss=0.005023092031478882 \n",
            "epoch=830  | train_loss=0.008932482451200485  |  test_loss=0.005023092031478882 \n",
            "epoch=840  | train_loss=0.008932482451200485  |  test_loss=0.005023092031478882 \n",
            "epoch=850  | train_loss=0.008932482451200485  |  test_loss=0.005023092031478882 \n",
            "epoch=860  | train_loss=0.008932482451200485  |  test_loss=0.005023092031478882 \n",
            "epoch=870  | train_loss=0.008932482451200485  |  test_loss=0.005023092031478882 \n",
            "epoch=880  | train_loss=0.008932482451200485  |  test_loss=0.005023092031478882 \n",
            "epoch=890  | train_loss=0.008932482451200485  |  test_loss=0.005023092031478882 \n",
            "epoch=900  | train_loss=0.008932482451200485  |  test_loss=0.005023092031478882 \n",
            "epoch=910  | train_loss=0.008932482451200485  |  test_loss=0.005023092031478882 \n",
            "epoch=920  | train_loss=0.008932482451200485  |  test_loss=0.005023092031478882 \n",
            "epoch=930  | train_loss=0.008932482451200485  |  test_loss=0.005023092031478882 \n",
            "epoch=940  | train_loss=0.008932482451200485  |  test_loss=0.005023092031478882 \n",
            "epoch=950  | train_loss=0.008932482451200485  |  test_loss=0.005023092031478882 \n",
            "epoch=960  | train_loss=0.008932482451200485  |  test_loss=0.005023092031478882 \n",
            "epoch=970  | train_loss=0.008932482451200485  |  test_loss=0.005023092031478882 \n",
            "epoch=980  | train_loss=0.008932482451200485  |  test_loss=0.005023092031478882 \n",
            "epoch=990  | train_loss=0.008932482451200485  |  test_loss=0.005023092031478882 \n"
          ]
        }
      ]
    },
    {
      "cell_type": "code",
      "source": [
        "plt.plot(epoch_count, train_losses, label=\"train loss\")\n",
        "plt.plot(epoch_count, test_losses, label=\"test loss\")\n",
        "plt.title(\"train and test loss curves\")\n",
        "plt.xlabel(\"epochs\")\n",
        "plt.ylabel(\"label\")\n",
        "\n",
        "plt.legend()"
      ],
      "metadata": {
        "colab": {
          "base_uri": "https://localhost:8080/",
          "height": 509
        },
        "id": "lHRxYfTfoRjG",
        "outputId": "f5866038-36d4-4b26-f1f2-644048a0cb2a"
      },
      "execution_count": 500,
      "outputs": [
        {
          "output_type": "execute_result",
          "data": {
            "text/plain": [
              "<matplotlib.legend.Legend at 0x7a376902f2b0>"
            ]
          },
          "metadata": {},
          "execution_count": 500
        },
        {
          "output_type": "display_data",
          "data": {
            "text/plain": [
              "<Figure size 640x480 with 1 Axes>"
            ],
            "image/png": "[encoded data removed]"
          },
          "metadata": {}
        }
      ]
    },
    {
      "cell_type": "code",
      "source": [
        "#evaluating the model\n",
        "model_0.eval()\n",
        "with torch.inference_mode():\n",
        "  y_preds=model_0(X_test)\n",
        "y_preds"
      ],
      "metadata": {
        "colab": {
          "base_uri": "https://localhost:8080/"
        },
        "id": "t0QMesc1sBF2",
        "outputId": "96cdf9e6-bec2-45fc-b79f-aae69b20831d"
      },
      "execution_count": 501,
      "outputs": [
        {
          "output_type": "execute_result",
          "data": {
            "text/plain": [
              "tensor([[0.8685],\n",
              "        [0.8825],\n",
              "        [0.8965],\n",
              "        [0.9105],\n",
              "        [0.9245],\n",
              "        [0.9384],\n",
              "        [0.9524],\n",
              "        [0.9664],\n",
              "        [0.9804],\n",
              "        [0.9944]])"
            ]
          },
          "metadata": {},
          "execution_count": 501
        }
      ]
    },
    {
      "cell_type": "code",
      "source": [
        "plot_predictions(predictions=y_preds)"
      ],
      "metadata": {
        "colab": {
          "base_uri": "https://localhost:8080/",
          "height": 592
        },
        "id": "D9v-OmOHs5Xj",
        "outputId": "2c3ee494-9f23-4078-c251-b169fab97e21"
      },
      "execution_count": 502,
      "outputs": [
        {
          "output_type": "display_data",
          "data": {
            "text/plain": [
              "<Figure size 1000x700 with 1 Axes>"
            ],
            "image/png": "[encoded data removed]"
          },
          "metadata": {}
        }
      ]
    },
    {
      "cell_type": "code",
      "source": [
        "model_0.state_dict()"
      ],
      "metadata": {
        "colab": {
          "base_uri": "https://localhost:8080/"
        },
        "id": "q0mT9rJ7tNVO",
        "outputId": "977ee78c-93a3-4d72-9c12-378ad8887e6e"
      },
      "execution_count": 503,
      "outputs": [
        {
          "output_type": "execute_result",
          "data": {
            "text/plain": [
              "OrderedDict([('w', tensor([0.6990])), ('b', tensor([0.3093]))])"
            ]
          },
          "metadata": {},
          "execution_count": 503
        }
      ]
    },
    {
      "cell_type": "code",
      "source": [
        "#saving the model\n",
        "from pathlib import Path\n",
        "model_file_name=Path('saved_model')\n",
        "model_file_name.mkdir(parents=True, exist_ok=True)\n",
        "\n",
        "#making a save path\n",
        "model_name=\"first_model.pth\"\n",
        "model_save_path=model_file_name/model_name\n",
        "\n",
        "#saving the actual model\n",
        "print(f'saving the model to {model_save_path}')\n",
        "torch.save(obj=model_0.state_dict(),f=model_save_path)"
      ],
      "metadata": {
        "colab": {
          "base_uri": "https://localhost:8080/"
        },
        "id": "QyzKDLzOs9Yz",
        "outputId": "9645692d-00da-4f72-9ce9-5fe04e12f7e1"
      },
      "execution_count": 506,
      "outputs": [
        {
          "output_type": "stream",
          "name": "stdout",
          "text": [
            "saving the model to saved_model/first_model.pth\n"
          ]
        }
      ]
    },
    {
      "cell_type": "code",
      "source": [
        "#loading the model\n",
        "loaded_model=lin_reg_model()\n",
        "loaded_model.load_state_dict(torch.load(f=model_save_path))"
      ],
      "metadata": {
        "colab": {
          "base_uri": "https://localhost:8080/"
        },
        "id": "8XhN4Vqu0mOD",
        "outputId": "809aa0f8-8d0e-4a38-c154-1ed0c416e685"
      },
      "execution_count": 511,
      "outputs": [
        {
          "output_type": "execute_result",
          "data": {
            "text/plain": [
              "<All keys matched successfully>"
            ]
          },
          "metadata": {},
          "execution_count": 511
        }
      ]
    },
    {
      "cell_type": "code",
      "source": [
        "loaded_model.eval()\n",
        "\n",
        "# 2. Use the inference mode context manager to make predictions\n",
        "with torch.inference_mode():\n",
        "    loaded_model_preds = loaded_model(X_test)"
      ],
      "metadata": {
        "id": "DAnCtxD81U-H"
      },
      "execution_count": 512,
      "outputs": []
    },
    {
      "cell_type": "code",
      "source": [
        "y_preds == loaded_model_preds"
      ],
      "metadata": {
        "colab": {
          "base_uri": "https://localhost:8080/"
        },
        "id": "_e4LIfg_1u3o",
        "outputId": "0b99defb-bffa-40f6-e6c7-7dd60902b38f"
      },
      "execution_count": 513,
      "outputs": [
        {
          "output_type": "execute_result",
          "data": {
            "text/plain": [
              "tensor([[True],\n",
              "        [True],\n",
              "        [True],\n",
              "        [True],\n",
              "        [True],\n",
              "        [True],\n",
              "        [True],\n",
              "        [True],\n",
              "        [True],\n",
              "        [True]])"
            ]
          },
          "metadata": {},
          "execution_count": 513
        }
      ]
    },
    {
      "cell_type": "code",
      "source": [],
      "metadata": {
        "id": "v9VMn3Hc1zar"
      },
      "execution_count": null,
      "outputs": []
    }
  ]
}