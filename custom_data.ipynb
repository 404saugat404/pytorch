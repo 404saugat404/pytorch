{
  "nbformat": 4,
  "nbformat_minor": 0,
  "metadata": {
    "colab": {
      "provenance": []
    },
    "kernelspec": {
      "name": "python3",
      "display_name": "Python 3"
    },
    "language_info": {
      "name": "python"
    }
  },
  "cells": [
    {
      "cell_type": "code",
      "execution_count": 1,
      "metadata": {
        "id": "p82eokoMxjPG"
      },
      "outputs": [],
      "source": [
        "import torch\n",
        "from torch import nn\n"
      ]
    },
    {
      "cell_type": "code",
      "source": [
        "device='cuda' if torch.cuda.is_available() else 'cpu'"
      ],
      "metadata": {
        "id": "wXkckWo53sOX"
      },
      "execution_count": 3,
      "outputs": []
    },
    {
      "cell_type": "code",
      "source": [
        "#importing the data\n",
        "import requests\n",
        "import zipfile\n",
        "from pathlib import Path\n",
        "\n",
        "data_path=Path('data/')\n",
        "image_path=data_path/'pizza_steak_sushi'\n",
        "\n",
        "if image_path.is_dir():\n",
        "  print(f'{image_path} directory exists. ')\n",
        "\n",
        "else:\n",
        "  print(f'didnot find {image_path} directory, so creating one...')\n",
        "  image_path.mkdir(parents=True, exist_ok=True)\n",
        "\n",
        "  #downloading pizza,steak and sushi data\n",
        "\n",
        "  with open(data_path/'pizza_steak_sushi.zip','wb') as f:\n",
        "    request=requests.get('https://github.com/mrdbourke/pytorch-deep-learning/raw/main/data/pizza_steak_sushi.zip')\n",
        "    print('downloading file')\n",
        "    f.write(request.content)\n",
        "\n",
        "  with zipfile.ZipFile(data_path/'pizza_steak_sushi.zip','r') as zip_ref:\n",
        "    print('unzipping data')\n",
        "    zip_ref.extractall(image_path)"
      ],
      "metadata": {
        "colab": {
          "base_uri": "https://localhost:8080/"
        },
        "id": "55GJWk9w3xra",
        "outputId": "0cf06e97-799e-4789-c4a8-1b3d846e246b"
      },
      "execution_count": 11,
      "outputs": [
        {
          "output_type": "stream",
          "name": "stdout",
          "text": [
            "didnot find data/pizza_steak_sushi directory, so creating one...\n",
            "downloading file\n",
            "unzipping data\n"
          ]
        }
      ]
    },
    {
      "cell_type": "markdown",
      "source": [
        "# Becoming one with the data"
      ],
      "metadata": {
        "id": "KpTVtPSn8opc"
      }
    },
    {
      "cell_type": "code",
      "source": [
        "import os\n",
        "def walk_through_dir(dir_path):\n",
        "  for dirpath,dirnames,filenames in os.walk(dir_path):\n",
        "    print(f'there are {len(dirnames)} directories and {len(filenames)} images in {dirpath}')\n",
        "\n",
        "walk_through_dir(image_path)"
      ],
      "metadata": {
        "colab": {
          "base_uri": "https://localhost:8080/"
        },
        "id": "3NHYz9HE4xV2",
        "outputId": "214432a2-ef8a-4433-bf0b-834b1729261e"
      },
      "execution_count": 15,
      "outputs": [
        {
          "output_type": "stream",
          "name": "stdout",
          "text": [
            "there are 2 directories and 0 images in data/pizza_steak_sushi\n",
            "there are 3 directories and 0 images in data/pizza_steak_sushi/test\n",
            "there are 0 directories and 25 images in data/pizza_steak_sushi/test/pizza\n",
            "there are 0 directories and 31 images in data/pizza_steak_sushi/test/sushi\n",
            "there are 0 directories and 19 images in data/pizza_steak_sushi/test/steak\n",
            "there are 3 directories and 0 images in data/pizza_steak_sushi/train\n",
            "there are 0 directories and 78 images in data/pizza_steak_sushi/train/pizza\n",
            "there are 0 directories and 72 images in data/pizza_steak_sushi/train/sushi\n",
            "there are 0 directories and 75 images in data/pizza_steak_sushi/train/steak\n"
          ]
        }
      ]
    },
    {
      "cell_type": "code",
      "source": [
        "#setting up train and test path\n",
        "train_dir=image_path/'train'\n",
        "test_dir=image_path/'test'"
      ],
      "metadata": {
        "id": "t26Kyds29B8p"
      },
      "execution_count": null,
      "outputs": []
    }
  ]
}